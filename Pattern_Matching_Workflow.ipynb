{
 "cells": [
  {
   "cell_type": "markdown",
   "metadata": {},
   "source": [
    "# Workflow for pattern-matching algorithm\n",
    "\n",
    "The below code blocks show the steps followed in deciding how to structure the pattern matching function in Python."
   ]
  },
  {
   "cell_type": "code",
   "execution_count": 1,
   "metadata": {},
   "outputs": [],
   "source": [
    "import sys\n",
    "import os\n",
    "import re\n",
    "from math import sqrt"
   ]
  },
  {
   "cell_type": "markdown",
   "metadata": {},
   "source": [
    "## Extract tabular blocks that fall below the string \"Q U A D 4\""
   ]
  },
  {
   "cell_type": "code",
   "execution_count": 2,
   "metadata": {},
   "outputs": [
    {
     "name": "stdout",
     "output_type": "stream",
     "text": [
      "SUBCASE  7 \n",
      " STRESSES IN ( Q U A D 4 )\n"
     ]
    }
   ],
   "source": [
    "element_example = \"SUBCASE  7 \\n STRESSES IN ( Q U A D 4 )\" \n",
    "print(element_example)"
   ]
  },
  {
   "cell_type": "markdown",
   "metadata": {},
   "source": [
    "## Count number of matches of \"QUAD4\""
   ]
  },
  {
   "cell_type": "code",
   "execution_count": 3,
   "metadata": {},
   "outputs": [],
   "source": [
    "n_match = 0"
   ]
  },
  {
   "cell_type": "code",
   "execution_count": 4,
   "metadata": {},
   "outputs": [],
   "source": [
    "element_type = \"quad4\"\n",
    "setname = ' '.join(element_type.upper())\n",
    "element_pattern = r'(' + setname + ')'"
   ]
  },
  {
   "cell_type": "code",
   "execution_count": 5,
   "metadata": {},
   "outputs": [
    {
     "name": "stdout",
     "output_type": "stream",
     "text": [
      "Matched 1 occurrences of element type quad4 in example.\n"
     ]
    }
   ],
   "source": [
    "if re.search(element_pattern, element_example):\n",
    "    n_match += 1\n",
    "print(\"Matched {} occurrences of element type {} in example.\".format(n_match, element_type))"
   ]
  },
  {
   "cell_type": "markdown",
   "metadata": {},
   "source": [
    "## Match subcase number, and count number of matches as well"
   ]
  },
  {
   "cell_type": "code",
   "execution_count": 6,
   "metadata": {},
   "outputs": [],
   "source": [
    "# Number of spaces is arbitrary in the actual output & cannot be pre-determined\n",
    "sub_example_1 = \"    SUBCASE   7\"   \n",
    "sub_example_2 = \"  SUBCASE  12\""
   ]
  },
  {
   "cell_type": "code",
   "execution_count": 7,
   "metadata": {},
   "outputs": [],
   "source": [
    "sub_pattern = r'SUBCASE'+'\\s*=?\\s*([0-9]+)'"
   ]
  },
  {
   "cell_type": "markdown",
   "metadata": {},
   "source": [
    "### Note that we are only catching the subcase number, for future use, regardless of number of digits"
   ]
  },
  {
   "cell_type": "code",
   "execution_count": 8,
   "metadata": {
    "scrolled": true
   },
   "outputs": [
    {
     "name": "stdout",
     "output_type": "stream",
     "text": [
      "('7',)\n",
      "('12',)\n"
     ]
    }
   ],
   "source": [
    "find_1 = re.search(sub_pattern, sub_example_1)\n",
    "find_2 = re.search(sub_pattern, sub_example_2)\n",
    "\n",
    "print(find_1.groups())\n",
    "print(find_2.groups())"
   ]
  },
  {
   "cell_type": "markdown",
   "metadata": {},
   "source": [
    "## If subcase number repeats in the next block, how to catch it?"
   ]
  },
  {
   "cell_type": "code",
   "execution_count": 9,
   "metadata": {},
   "outputs": [
    {
     "name": "stdout",
     "output_type": "stream",
     "text": [
      "    SUBCASE   7 \n",
      " SOME TEXT \n",
      "\n",
      "     SUBCASE   7 \n"
     ]
    }
   ],
   "source": [
    "sub_example_3 = \"    SUBCASE   7 \\n SOME TEXT \\n\\n     SUBCASE   7 \"\n",
    "print(sub_example_3)"
   ]
  },
  {
   "cell_type": "markdown",
   "metadata": {},
   "source": [
    "### We can continually append the matched subcase numbers to a dummy list"
   ]
  },
  {
   "cell_type": "code",
   "execution_count": 10,
   "metadata": {},
   "outputs": [
    {
     "name": "stdout",
     "output_type": "stream",
     "text": [
      "['    SUBCASE   7 ', ' SOME TEXT ', '', '     SUBCASE   7 ']\n",
      "[-1, -1, 7, 7]\n"
     ]
    }
   ],
   "source": [
    "split_data = sub_example_3.split(\"\\n\")\n",
    "print(split_data)\n",
    "\n",
    "sub_repeat = [-1, -1]\n",
    "\n",
    "for line in split_data:\n",
    "    find = re.search(sub_pattern, line)\n",
    "    if find:\n",
    "        f = int(find.group(1))\n",
    "        sub_repeat.append(f)\n",
    "\n",
    "print(sub_repeat)\n",
    "        "
   ]
  },
  {
   "cell_type": "markdown",
   "metadata": {},
   "source": [
    "### From this point, we can easily count the number of repeats with the .count() method"
   ]
  },
  {
   "cell_type": "code",
   "execution_count": 11,
   "metadata": {},
   "outputs": [
    {
     "name": "stdout",
     "output_type": "stream",
     "text": [
      "2\n"
     ]
    }
   ],
   "source": [
    "print(sub_repeat.count(7))"
   ]
  },
  {
   "cell_type": "markdown",
   "metadata": {},
   "source": [
    "## Stop collecting tabular data when a specific string appears\n",
    "### In the actual data output, the tabular data of interest is separated by a start pattern and a stop pattern"
   ]
  },
  {
   "cell_type": "code",
   "execution_count": 12,
   "metadata": {},
   "outputs": [
    {
     "name": "stdout",
     "output_type": "stream",
     "text": [
      " \n",
      "                 SUBCASE   7 \n",
      "    E L E M E N T S   ( Q U A D 4 )\n",
      "    \n",
      "00001    3.810295E-01   8.661047E-01\n",
      "  \n",
      "        -1.196695E+00  -6.235256E-01\n",
      "  \n",
      "00002    1.662949E-01   5.598139E-01\n",
      "  \n",
      "        -1.336528E+00  -2.009380E-01\n",
      "  \n",
      "SEPTEMBER  20, 2017  MD NASTRAN  12/15/10 \n",
      "\n",
      "\n"
     ]
    }
   ],
   "source": [
    "real_example = \"\"\" \n",
    "                 SUBCASE   7 \n",
    "    E L E M E N T S   ( Q U A D 4 )\n",
    "    \n",
    "00001    3.810295E-01   8.661047E-01\\n  \n",
    "        -1.196695E+00  -6.235256E-01\\n  \n",
    "00002    1.662949E-01   5.598139E-01\\n  \n",
    "        -1.336528E+00  -2.009380E-01\\n  \n",
    "SEPTEMBER  20, 2017  MD NASTRAN  12/15/10 \\n\n",
    "\"\"\"\n",
    "\n",
    "print(real_example)"
   ]
  },
  {
   "cell_type": "markdown",
   "metadata": {},
   "source": [
    "### In the real data, the stop pattern string could be \"MSC NASTRAN\", \"MD NASTRAN\" or \"NX NASTRAN\" - we need to catch this using a regular expression to account for variability in the input"
   ]
  },
  {
   "cell_type": "code",
   "execution_count": 13,
   "metadata": {},
   "outputs": [],
   "source": [
    "stop_pattern = r'[A-Z]+\\s+[Nn][Aa][Ss][Tt][Rr][Aa][Nn]'"
   ]
  },
  {
   "cell_type": "code",
   "execution_count": 14,
   "metadata": {},
   "outputs": [
    {
     "name": "stdout",
     "output_type": "stream",
     "text": [
      "Printing relevant numerical data extracted from sample:\n",
      "\n",
      "    \n",
      "00001    3.810295E-01   8.661047E-01\n",
      "  \n",
      "        -1.196695E+00  -6.235256E-01\n",
      "  \n",
      "00002    1.662949E-01   5.598139E-01\n",
      "  \n",
      "        -1.336528E+00  -2.009380E-01\n",
      "  \n",
      "Value of flag = False\n",
      "Matched 1 subcase in example.\n"
     ]
    }
   ],
   "source": [
    "split_real_example = real_example.split(\"\\n\")\n",
    "\n",
    "n_match = 0\n",
    "flag = False   # flag to set whether we will be extracting data or not\n",
    "\n",
    "print('Printing relevant numerical data extracted from sample:\\n')\n",
    "for line in split_real_example:\n",
    "    if flag:                            # if flag == True\n",
    "        if re.search(stop_pattern, line):   # if we hit a stopping pattern, stop search\n",
    "            flag = False                # Reset flag \n",
    "        else:\n",
    "            print(line)\n",
    "    find = re.search(sub_pattern, line)\n",
    "    \n",
    "    if find:\n",
    "        f = int(find.group(1))\n",
    "    \n",
    "    if re.search(element_pattern, line):\n",
    "        n_match += 1\n",
    "        flag = True\n",
    "\n",
    "print(\"Value of flag = \"+ str(flag))\n",
    "print(\"Matched {} subcase in example.\".format(n_match))"
   ]
  },
  {
   "cell_type": "markdown",
   "metadata": {},
   "source": [
    "## Summary\n",
    "\n",
    "Once we have tested each pattern matching step as described above, we can loop through the lines of the file by creating a more detailed function (as shown in ```pattern_matching_nastran.py```) can be constructed that will allows us to parse through a large text file for extracting blocks of numerical information."
   ]
  }
 ],
 "metadata": {
  "kernelspec": {
   "display_name": "Python 3",
   "language": "python",
   "name": "python3"
  },
  "language_info": {
   "codemirror_mode": {
    "name": "ipython",
    "version": 3
   },
   "file_extension": ".py",
   "mimetype": "text/x-python",
   "name": "python",
   "nbconvert_exporter": "python",
   "pygments_lexer": "ipython3",
   "version": "3.6.5"
  }
 },
 "nbformat": 4,
 "nbformat_minor": 2
}
